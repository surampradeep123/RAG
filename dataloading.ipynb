{
 "cells": [
  {
   "cell_type": "code",
   "execution_count": null,
   "metadata": {},
   "outputs": [
    {
     "name": "stdout",
     "output_type": "stream",
     "text": [
      "Loaded 3500 documents and saved to C:\\Users\\suram\\OneDrive\\Desktop\\rag project\\legal_documents.json\n"
     ]
    }
   ],
   "source": [
    "from langchain.document_loaders import PyPDFLoader\n",
    "import os\n",
    "import json\n",
    "\n",
    "\n",
    "pdf_folder = r\"C:\\Users\\suram\\Downloads\\laws\"  \n",
    "\n",
    "\n",
    "def load_pdfs(pdf_folder):\n",
    "    documents = []\n",
    "    for file in os.listdir(pdf_folder):\n",
    "        if file.endswith(\".pdf\"):\n",
    "            pdf_path = os.path.join(pdf_folder, file)\n",
    "            loader = PyPDFLoader(pdf_path)\n",
    "            docs = loader.load()\n",
    "            documents.extend(docs)\n",
    "    return documents\n",
    "\n",
    "legal_documents = load_pdfs(pdf_folder)\n",
    "\n",
    "\n",
    "pdf_json_path = r\"C:\\Users\\suram\\OneDrive\\Desktop\\rag project\\legal_documents.json\"\n",
    "with open(pdf_json_path, \"w\", encoding=\"utf-8\") as f:\n",
    "    json.dump([{\"content\": doc.page_content, \"metadata\": doc.metadata} for doc in legal_documents], f, indent=4)\n",
    "\n",
    "\n",
    "print(f\"Loaded {len(legal_documents)} documents and saved to {pdf_json_path}\")\n",
    "\n",
    "    "
   ]
  }
 ],
 "metadata": {
  "kernelspec": {
   "display_name": "base",
   "language": "python",
   "name": "python3"
  },
  "language_info": {
   "codemirror_mode": {
    "name": "ipython",
    "version": 3
   },
   "file_extension": ".py",
   "mimetype": "text/x-python",
   "name": "python",
   "nbconvert_exporter": "python",
   "pygments_lexer": "ipython3",
   "version": "3.12.7"
  }
 },
 "nbformat": 4,
 "nbformat_minor": 2
}
