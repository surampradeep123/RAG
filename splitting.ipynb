{
 "cells": [
  {
   "cell_type": "code",
   "execution_count": null,
   "metadata": {},
   "outputs": [
    {
     "name": "stdout",
     "output_type": "stream",
     "text": [
      "📂 Split into 15148 chunks and saved to C:\\Users\\suram\\OneDrive\\Desktop\\rag project\\split_chunks.json\n",
      "['1 \\n \\nTHE CONSUMER PROTECTION ACT, 2019 \\n____________ \\nARRANGEMENT OF SECTIONS \\nLast Updated:17-9-2021 \\n____________ \\nCHAPTER I \\nPRELIMINARY \\nSECTIONS  \\n1. Short title, extent, commencement and application. \\n2. Definitions. \\nCHAPTER II \\nCONSUMER PROTECTION COUNCILS. \\n3. Central Consumer Protection Council. \\n4. Procedure for meetings of Central Council. \\n5. Objects of Central Council. \\n6. State Consumer Protection Councils. \\n7. Objects of State Council. \\n8. District Consumer Protection Council. \\n9. Objects of District Council. \\nCHAPTER III \\nCENTRAL CONSUMER PROTECTION AUTHORITY \\n10. Establishment of Central Consumer Protection Authority. \\n11. Qualifications, method of recruitment, etc., of Chief Commissioner and Commissioners. \\n12. Vacancy, etc., not to invalidate proceedings of Central Authority. \\n13. Appointment of officers, experts, professionals and other employees of Central Authority. \\n14. Procedure of Central Authority. \\n15. Investigation Wing. \\n16. Power of District Collector', '. \\n14. Procedure of Central Authority. \\n15. Investigation Wing. \\n16. Power of District Collector. \\n17. Complaints to authorities. \\n18. Powers and functions of Central Authority. \\n19. Power of Central Authority to refer matter for investigation or to other Regulator. \\n20. Power of Central Authority to recall goods, etc. \\n21. Power of Central Authority to issue directions and penalties against false or misleading \\nadvertisements. \\n22. Search and seizure. \\n23. Designation of any statutory authority or body to function as Central Authority. \\n24. Appeal. \\n25. Grants by Central Government. \\n26. Accounts and audit. \\n27. Furnishing of annual reports, etc. \\nCHAPTER IV \\nCONSUMER DISPUTES REDRESSAL COMMISSION \\n28. Establishment of District Consumer Disputes Redressal Commission. \\n29. Qualifications, etc., of President and members of District Commission.', '2 \\n \\nSECTIONS  \\n30. Salaries, allowances and other terms and conditions of service of President and members of \\nDistrict Commission. \\n31. Transitional provision. \\n32. Vacancy in office of member of District Commission. \\n33. Officers and other employees of District Commission. \\n34. Jurisdiction of District Commission. \\n35. Manner in which complaint shall be made. \\n36. Proceedings before District Commission. \\n37. Reference to mediation. \\n38. Procedure on admission of complaint. \\n39. Findings of District Commission. \\n40. Review by District Commission in certain cases. \\n41. Appeal against order of District Commission. \\n42. Establishment of State Consumer Disputes Redressal Commission. \\n43. Qualifications, etc., of President and members of State Commission. \\n44. Salaries, allowances and other terms and conditions of service of President and members of State \\nCommission. \\n45. Transitional provision. \\n46. Officers and employees of State Commission. \\n47. Jurisdiction of State Commission. \\n48']\n"
     ]
    }
   ],
   "source": [
    "from langchain.text_splitter import RecursiveCharacterTextSplitter\n",
    "import json\n",
    "\n",
    "\n",
    "pdf_json_path = r\"C:\\Users\\suram\\OneDrive\\Desktop\\rag project\\legal_documents.json\"\n",
    "split_json_path = r\"C:\\Users\\suram\\OneDrive\\Desktop\\rag project\\split_chunks.json\"\n",
    "\n",
    "\n",
    "with open(pdf_json_path, \"r\", encoding=\"utf-8\") as f:\n",
    "    legal_documents = json.load(f)\n",
    "\n",
    "\n",
    "texts = [doc[\"content\"] for doc in legal_documents]\n",
    "\n",
    "\n",
    "text_splitter = RecursiveCharacterTextSplitter(\n",
    "    chunk_size=1000,  \n",
    "    chunk_overlap=100,  \n",
    "    separators=[\"\\n\\n\", \".\", \"?\", \"!\", \" \"]  \n",
    ")\n",
    "\n",
    "split_chunks = text_splitter.split_text(\"\\n\\n\".join(texts))  \n",
    "\n",
    "\n",
    "with open(split_json_path, \"w\", encoding=\"utf-8\") as f:\n",
    "    json.dump(split_chunks, f, indent=4)\n",
    "\n",
    "\n",
    "print(f\" Split into {len(split_chunks)} chunks and saved to {split_json_path}\")\n",
    "print(split_chunks[:3])  \n"
   ]
  }
 ],
 "metadata": {
  "kernelspec": {
   "display_name": "base",
   "language": "python",
   "name": "python3"
  },
  "language_info": {
   "codemirror_mode": {
    "name": "ipython",
    "version": 3
   },
   "file_extension": ".py",
   "mimetype": "text/x-python",
   "name": "python",
   "nbconvert_exporter": "python",
   "pygments_lexer": "ipython3",
   "version": "3.12.7"
  }
 },
 "nbformat": 4,
 "nbformat_minor": 2
}
