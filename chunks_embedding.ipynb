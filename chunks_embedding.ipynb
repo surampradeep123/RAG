{
 "cells": [
  {
   "cell_type": "code",
   "execution_count": null,
   "metadata": {},
   "outputs": [],
   "source": [
    "persist_directory = r\"C:\\Users\\suram\\OneDrive\\Desktop\\rag project\\chroma_db\""
   ]
  },
  {
   "cell_type": "code",
   "execution_count": null,
   "metadata": {},
   "outputs": [
    {
     "name": "stdout",
     "output_type": "stream",
     "text": [
      "Loaded 15148 chunks from C:\\Users\\suram\\OneDrive\\Desktop\\rag project\\split_chunks.json\n",
      "Embeddings stored successfully in ChromaDB at C:\\Users\\suram\\OneDrive\\Desktop\\rag project\\chroma_db!\n"
     ]
    }
   ],
   "source": [
    "import json\n",
    "import multiprocessing\n",
    "from concurrent.futures import ThreadPoolExecutor\n",
    "from langchain_core.documents import Document\n",
    "from langchain_ollama import OllamaEmbeddings\n",
    "from langchain_community.vectorstores import Chroma\n",
    "\n",
    "\n",
    "json_file = r\"C:\\Users\\suram\\OneDrive\\Desktop\\rag project\\split_chunks.json\"\n",
    "\n",
    "\n",
    "with open(json_file, \"r\", encoding=\"utf-8\") as f:\n",
    "    data = json.load(f)  \n",
    "\n",
    "\n",
    "if isinstance(data, list):  \n",
    "    documents = [Document(page_content=chunk) for chunk in data]\n",
    "    print(f\"Loaded {len(documents)} chunks from {json_file}\")\n",
    "else:\n",
    "    print(\"Error: JSON is not a list of chunks!\")\n",
    "    exit()\n",
    "\n",
    "\n",
    "embedding_function = OllamaEmbeddings(model=\"nomic-embed-text\")\n",
    "\n",
    "\n",
    "def process_batch(batch):\n",
    "    \"\"\"Function to process a batch of documents and return their embeddings.\"\"\"\n",
    "    return embedding_function.embed_documents([doc.page_content for doc in batch])\n",
    "\n",
    "\n",
    "num_cores = min(8, multiprocessing.cpu_count())  \n",
    "batch_size = 80  \n",
    "batches = [documents[i:i + batch_size] for i in range(0, len(documents), batch_size)]\n",
    "\n",
    "\n",
    "embeddings = []\n",
    "with ThreadPoolExecutor(max_workers=num_cores) as executor:\n",
    "    results = executor.map(process_batch, batches)\n",
    "    for result in results:\n",
    "        embeddings.extend(result)  \n",
    "\n",
    "\n",
    "persist_directory = r\"C:\\Users\\suram\\OneDrive\\Desktop\\rag project\\chroma_db\"\n",
    "vectorstore = Chroma.from_documents(documents, embedding_function, persist_directory=persist_directory)\n",
    "\n",
    "print(f\"Embeddings stored successfully in ChromaDB at {persist_directory}!\")\n"
   ]
  }
 ],
 "metadata": {
  "kernelspec": {
   "display_name": "base",
   "language": "python",
   "name": "python3"
  },
  "language_info": {
   "codemirror_mode": {
    "name": "ipython",
    "version": 3
   },
   "file_extension": ".py",
   "mimetype": "text/x-python",
   "name": "python",
   "nbconvert_exporter": "python",
   "pygments_lexer": "ipython3",
   "version": "3.12.7"
  }
 },
 "nbformat": 4,
 "nbformat_minor": 2
}
